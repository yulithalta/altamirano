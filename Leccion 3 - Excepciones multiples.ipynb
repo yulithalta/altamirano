{
 "cells": [
  {
   "cell_type": "code",
   "execution_count": 2,
   "metadata": {},
   "outputs": [
    {
     "name": "stdout",
     "output_type": "stream",
     "text": [
      "Introduce un valor10\n",
      "TypeError\n"
     ]
    }
   ],
   "source": [
    "try:\n",
    "    numero = input(\"Introduce un valor\")\n",
    "    5/numero\n",
    "except Exception as e: #guardar una excepcion generica en e \n",
    "    print(type(e).__name__)"
   ]
  },
  {
   "cell_type": "code",
   "execution_count": 9,
   "metadata": {},
   "outputs": [
    {
     "name": "stdout",
     "output_type": "stream",
     "text": [
      "Introduce un valor: 0\n",
      "No se puede dividir el numero entre cero\n"
     ]
    }
   ],
   "source": [
    "try:\n",
    "    numero = float(input(\"Introduce un valor: \"))\n",
    "    5/numero\n",
    "except TypeError:\n",
    "    print(\"No se puede dividir el numero por una cadena\")\n",
    "except ValueError:\n",
    "    print(\"debes de introducir una cadena de que sea un numero\")\n",
    "except ZeroDivisionError:\n",
    "    print(\"No se puede dividir el numero entre cero\")\n",
    "except Exception as e: #guardar una excepcion generica en e \n",
    "    print(type(e).__name__)"
   ]
  },
  {
   "cell_type": "code",
   "execution_count": null,
   "metadata": {},
   "outputs": [],
   "source": []
  }
 ],
 "metadata": {
  "kernelspec": {
   "display_name": "Python 3",
   "language": "python",
   "name": "python3"
  },
  "language_info": {
   "codemirror_mode": {
    "name": "ipython",
    "version": 3
   },
   "file_extension": ".py",
   "mimetype": "text/x-python",
   "name": "python",
   "nbconvert_exporter": "python",
   "pygments_lexer": "ipython3",
   "version": "3.7.0"
  }
 },
 "nbformat": 4,
 "nbformat_minor": 1
}
